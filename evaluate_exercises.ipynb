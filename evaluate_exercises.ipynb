{
 "cells": [
  {
   "cell_type": "markdown",
   "id": "c5091d6a",
   "metadata": {},
   "source": [
    "# Exercises - Evaluate\n",
    "\n",
    "Do you work for this exercise in either a jupyter notebook named evaluate within your regression-exercises repository. By the end of this exercise you will also create a python script named evaluate, so the overall deliverables for this exercise are the python script and jupyter notebook both with the name evaluate within your regression-exercises repo.\n",
    "\n",
    "1. Load your zillow dataset."
   ]
  },
  {
   "cell_type": "code",
   "execution_count": 1,
   "id": "13154ab5",
   "metadata": {},
   "outputs": [],
   "source": [
    "import pandas as pd\n",
    "import numpy as np\n",
    "\n",
    "import seaborn as sns\n",
    "import matplotlib.pyplot as plt\n",
    "\n",
    "from scipy import stats\n",
    "from scipy.stats import pearsonr, spearmanr\n",
    "\n",
    "from sklearn.model_selection import train_test_split\n",
    "\n",
    "import wrangle\n",
    "\n",
    "from math import sqrt\n",
    "from sklearn.linear_model import LinearRegression\n",
    "from sklearn.metrics import mean_squared_error, r2_score, explained_variance_score"
   ]
  },
  {
   "cell_type": "code",
   "execution_count": 2,
   "id": "ef5bd1c5",
   "metadata": {},
   "outputs": [
    {
     "data": {
      "text/html": [
       "<div>\n",
       "<style scoped>\n",
       "    .dataframe tbody tr th:only-of-type {\n",
       "        vertical-align: middle;\n",
       "    }\n",
       "\n",
       "    .dataframe tbody tr th {\n",
       "        vertical-align: top;\n",
       "    }\n",
       "\n",
       "    .dataframe thead th {\n",
       "        text-align: right;\n",
       "    }\n",
       "</style>\n",
       "<table border=\"1\" class=\"dataframe\">\n",
       "  <thead>\n",
       "    <tr style=\"text-align: right;\">\n",
       "      <th></th>\n",
       "      <th>bedrooms</th>\n",
       "      <th>bathrooms</th>\n",
       "      <th>square_footage</th>\n",
       "      <th>tax_value</th>\n",
       "      <th>year_built</th>\n",
       "      <th>tax_amount</th>\n",
       "      <th>fips</th>\n",
       "    </tr>\n",
       "  </thead>\n",
       "  <tbody>\n",
       "    <tr>\n",
       "      <th>553191</th>\n",
       "      <td>4.0</td>\n",
       "      <td>2.0</td>\n",
       "      <td>1556</td>\n",
       "      <td>373090</td>\n",
       "      <td>1923</td>\n",
       "      <td>4579.25</td>\n",
       "      <td>6037</td>\n",
       "    </tr>\n",
       "    <tr>\n",
       "      <th>1209132</th>\n",
       "      <td>3.0</td>\n",
       "      <td>2.0</td>\n",
       "      <td>1513</td>\n",
       "      <td>74070</td>\n",
       "      <td>1937</td>\n",
       "      <td>986.55</td>\n",
       "      <td>6037</td>\n",
       "    </tr>\n",
       "    <tr>\n",
       "      <th>174634</th>\n",
       "      <td>4.0</td>\n",
       "      <td>2.0</td>\n",
       "      <td>2040</td>\n",
       "      <td>138000</td>\n",
       "      <td>1954</td>\n",
       "      <td>2553.05</td>\n",
       "      <td>6037</td>\n",
       "    </tr>\n",
       "    <tr>\n",
       "      <th>170584</th>\n",
       "      <td>3.0</td>\n",
       "      <td>2.0</td>\n",
       "      <td>1834</td>\n",
       "      <td>263870</td>\n",
       "      <td>1959</td>\n",
       "      <td>3139.76</td>\n",
       "      <td>6059</td>\n",
       "    </tr>\n",
       "    <tr>\n",
       "      <th>2001226</th>\n",
       "      <td>2.0</td>\n",
       "      <td>2.0</td>\n",
       "      <td>1225</td>\n",
       "      <td>335603</td>\n",
       "      <td>1975</td>\n",
       "      <td>3461.38</td>\n",
       "      <td>6059</td>\n",
       "    </tr>\n",
       "  </tbody>\n",
       "</table>\n",
       "</div>"
      ],
      "text/plain": [
       "         bedrooms  bathrooms  square_footage  tax_value  year_built  \\\n",
       "553191        4.0        2.0            1556     373090        1923   \n",
       "1209132       3.0        2.0            1513      74070        1937   \n",
       "174634        4.0        2.0            2040     138000        1954   \n",
       "170584        3.0        2.0            1834     263870        1959   \n",
       "2001226       2.0        2.0            1225     335603        1975   \n",
       "\n",
       "         tax_amount  fips  \n",
       "553191      4579.25  6037  \n",
       "1209132      986.55  6037  \n",
       "174634      2553.05  6037  \n",
       "170584      3139.76  6059  \n",
       "2001226     3461.38  6059  "
      ]
     },
     "execution_count": 2,
     "metadata": {},
     "output_type": "execute_result"
    }
   ],
   "source": [
    "train, validate, test = wrangle.wrangle_zillow()\n",
    "train.head()"
   ]
  },
  {
   "cell_type": "markdown",
   "id": "8e997f3b",
   "metadata": {},
   "source": [
    "2. Fit a linear regression model (ordinary least squares) and compute yhat, predictions of taxvaluedollarcnt using only calculatedfinishedsqft.\n",
    "\n",
    "Here is some sample code to get you started:"
   ]
  },
  {
   "cell_type": "code",
   "execution_count": null,
   "id": "b2d1e24e",
   "metadata": {},
   "outputs": [],
   "source": [
    "from sklearn.linear_model import LinearRegression\n",
    "\n",
    "# assuming X and y are already defined\n",
    "model = LinearRegression().fit(X, y)\n",
    "predictions = model.predict(X)\n"
   ]
  },
  {
   "cell_type": "markdown",
   "id": "91735e8e",
   "metadata": {},
   "source": [
    "Modify and add to the code above as necessary for it to work with the zillow dataset."
   ]
  },
  {
   "cell_type": "code",
   "execution_count": 40,
   "id": "046077c8",
   "metadata": {},
   "outputs": [],
   "source": [
    "baseline = round(train['tax_value'].mean(), 2)"
   ]
  },
  {
   "cell_type": "code",
   "execution_count": 41,
   "id": "47cc4d00",
   "metadata": {},
   "outputs": [],
   "source": [
    "preds = train[['square_footage', 'tax_value']]"
   ]
  },
  {
   "cell_type": "code",
   "execution_count": 42,
   "id": "55b0d961",
   "metadata": {},
   "outputs": [
    {
     "name": "stderr",
     "output_type": "stream",
     "text": [
      "/var/folders/2g/_40bymd11_x47n42bls8ypmr0000gn/T/ipykernel_1223/3933155626.py:1: SettingWithCopyWarning: \n",
      "A value is trying to be set on a copy of a slice from a DataFrame.\n",
      "Try using .loc[row_indexer,col_indexer] = value instead\n",
      "\n",
      "See the caveats in the documentation: https://pandas.pydata.org/pandas-docs/stable/user_guide/indexing.html#returning-a-view-versus-a-copy\n",
      "  preds['baseline_preds'] = baseline\n"
     ]
    },
    {
     "data": {
      "text/html": [
       "<div>\n",
       "<style scoped>\n",
       "    .dataframe tbody tr th:only-of-type {\n",
       "        vertical-align: middle;\n",
       "    }\n",
       "\n",
       "    .dataframe tbody tr th {\n",
       "        vertical-align: top;\n",
       "    }\n",
       "\n",
       "    .dataframe thead th {\n",
       "        text-align: right;\n",
       "    }\n",
       "</style>\n",
       "<table border=\"1\" class=\"dataframe\">\n",
       "  <thead>\n",
       "    <tr style=\"text-align: right;\">\n",
       "      <th></th>\n",
       "      <th>square_footage</th>\n",
       "      <th>tax_value</th>\n",
       "      <th>baseline_preds</th>\n",
       "    </tr>\n",
       "  </thead>\n",
       "  <tbody>\n",
       "    <tr>\n",
       "      <th>553191</th>\n",
       "      <td>1556</td>\n",
       "      <td>373090</td>\n",
       "      <td>461201.97</td>\n",
       "    </tr>\n",
       "    <tr>\n",
       "      <th>1209132</th>\n",
       "      <td>1513</td>\n",
       "      <td>74070</td>\n",
       "      <td>461201.97</td>\n",
       "    </tr>\n",
       "    <tr>\n",
       "      <th>174634</th>\n",
       "      <td>2040</td>\n",
       "      <td>138000</td>\n",
       "      <td>461201.97</td>\n",
       "    </tr>\n",
       "    <tr>\n",
       "      <th>170584</th>\n",
       "      <td>1834</td>\n",
       "      <td>263870</td>\n",
       "      <td>461201.97</td>\n",
       "    </tr>\n",
       "    <tr>\n",
       "      <th>2001226</th>\n",
       "      <td>1225</td>\n",
       "      <td>335603</td>\n",
       "      <td>461201.97</td>\n",
       "    </tr>\n",
       "  </tbody>\n",
       "</table>\n",
       "</div>"
      ],
      "text/plain": [
       "         square_footage  tax_value  baseline_preds\n",
       "553191             1556     373090       461201.97\n",
       "1209132            1513      74070       461201.97\n",
       "174634             2040     138000       461201.97\n",
       "170584             1834     263870       461201.97\n",
       "2001226            1225     335603       461201.97"
      ]
     },
     "execution_count": 42,
     "metadata": {},
     "output_type": "execute_result"
    }
   ],
   "source": [
    "preds['baseline_preds'] = baseline\n",
    "preds.head()"
   ]
  },
  {
   "cell_type": "code",
   "execution_count": 43,
   "id": "cb4cb759",
   "metadata": {},
   "outputs": [
    {
     "data": {
      "text/plain": [
       "LinearRegression()"
      ]
     },
     "execution_count": 43,
     "metadata": {},
     "output_type": "execute_result"
    }
   ],
   "source": [
    "ols_model = LinearRegression()\n",
    "ols_model.fit(train[['square_footage']], train[['tax_value']])"
   ]
  },
  {
   "cell_type": "code",
   "execution_count": 44,
   "id": "e36c55ec",
   "metadata": {},
   "outputs": [
    {
     "name": "stderr",
     "output_type": "stream",
     "text": [
      "/var/folders/2g/_40bymd11_x47n42bls8ypmr0000gn/T/ipykernel_1223/1907124346.py:1: SettingWithCopyWarning: \n",
      "A value is trying to be set on a copy of a slice from a DataFrame.\n",
      "Try using .loc[row_indexer,col_indexer] = value instead\n",
      "\n",
      "See the caveats in the documentation: https://pandas.pydata.org/pandas-docs/stable/user_guide/indexing.html#returning-a-view-versus-a-copy\n",
      "  preds['yhat'] = ols_model.predict(train[['square_footage']])\n"
     ]
    },
    {
     "data": {
      "text/html": [
       "<div>\n",
       "<style scoped>\n",
       "    .dataframe tbody tr th:only-of-type {\n",
       "        vertical-align: middle;\n",
       "    }\n",
       "\n",
       "    .dataframe tbody tr th {\n",
       "        vertical-align: top;\n",
       "    }\n",
       "\n",
       "    .dataframe thead th {\n",
       "        text-align: right;\n",
       "    }\n",
       "</style>\n",
       "<table border=\"1\" class=\"dataframe\">\n",
       "  <thead>\n",
       "    <tr style=\"text-align: right;\">\n",
       "      <th></th>\n",
       "      <th>square_footage</th>\n",
       "      <th>tax_value</th>\n",
       "      <th>baseline_preds</th>\n",
       "      <th>yhat</th>\n",
       "    </tr>\n",
       "  </thead>\n",
       "  <tbody>\n",
       "    <tr>\n",
       "      <th>553191</th>\n",
       "      <td>1556</td>\n",
       "      <td>373090</td>\n",
       "      <td>461201.97</td>\n",
       "      <td>356285.426759</td>\n",
       "    </tr>\n",
       "    <tr>\n",
       "      <th>1209132</th>\n",
       "      <td>1513</td>\n",
       "      <td>74070</td>\n",
       "      <td>461201.97</td>\n",
       "      <td>341663.043655</td>\n",
       "    </tr>\n",
       "    <tr>\n",
       "      <th>174634</th>\n",
       "      <td>2040</td>\n",
       "      <td>138000</td>\n",
       "      <td>461201.97</td>\n",
       "      <td>520872.250533</td>\n",
       "    </tr>\n",
       "    <tr>\n",
       "      <th>170584</th>\n",
       "      <td>1834</td>\n",
       "      <td>263870</td>\n",
       "      <td>461201.97</td>\n",
       "      <td>450820.833803</td>\n",
       "    </tr>\n",
       "    <tr>\n",
       "      <th>2001226</th>\n",
       "      <td>1225</td>\n",
       "      <td>335603</td>\n",
       "      <td>461201.97</td>\n",
       "      <td>243727.082401</td>\n",
       "    </tr>\n",
       "  </tbody>\n",
       "</table>\n",
       "</div>"
      ],
      "text/plain": [
       "         square_footage  tax_value  baseline_preds           yhat\n",
       "553191             1556     373090       461201.97  356285.426759\n",
       "1209132            1513      74070       461201.97  341663.043655\n",
       "174634             2040     138000       461201.97  520872.250533\n",
       "170584             1834     263870       461201.97  450820.833803\n",
       "2001226            1225     335603       461201.97  243727.082401"
      ]
     },
     "execution_count": 44,
     "metadata": {},
     "output_type": "execute_result"
    }
   ],
   "source": [
    "preds['yhat'] = ols_model.predict(train[['square_footage']])\n",
    "preds.head()"
   ]
  },
  {
   "cell_type": "markdown",
   "id": "365c6af0",
   "metadata": {},
   "source": [
    "3. Plot the residuals for the linear regression model that you made."
   ]
  },
  {
   "cell_type": "code",
   "execution_count": 45,
   "id": "a05af68d",
   "metadata": {},
   "outputs": [
    {
     "name": "stderr",
     "output_type": "stream",
     "text": [
      "/var/folders/2g/_40bymd11_x47n42bls8ypmr0000gn/T/ipykernel_1223/507902786.py:1: SettingWithCopyWarning: \n",
      "A value is trying to be set on a copy of a slice from a DataFrame.\n",
      "Try using .loc[row_indexer,col_indexer] = value instead\n",
      "\n",
      "See the caveats in the documentation: https://pandas.pydata.org/pandas-docs/stable/user_guide/indexing.html#returning-a-view-versus-a-copy\n",
      "  preds['baseline_res'] = preds['baseline_preds'] - preds['tax_value']\n"
     ]
    },
    {
     "data": {
      "text/html": [
       "<div>\n",
       "<style scoped>\n",
       "    .dataframe tbody tr th:only-of-type {\n",
       "        vertical-align: middle;\n",
       "    }\n",
       "\n",
       "    .dataframe tbody tr th {\n",
       "        vertical-align: top;\n",
       "    }\n",
       "\n",
       "    .dataframe thead th {\n",
       "        text-align: right;\n",
       "    }\n",
       "</style>\n",
       "<table border=\"1\" class=\"dataframe\">\n",
       "  <thead>\n",
       "    <tr style=\"text-align: right;\">\n",
       "      <th></th>\n",
       "      <th>square_footage</th>\n",
       "      <th>tax_value</th>\n",
       "      <th>baseline_preds</th>\n",
       "      <th>yhat</th>\n",
       "      <th>baseline_res</th>\n",
       "    </tr>\n",
       "  </thead>\n",
       "  <tbody>\n",
       "    <tr>\n",
       "      <th>553191</th>\n",
       "      <td>1556</td>\n",
       "      <td>373090</td>\n",
       "      <td>461201.97</td>\n",
       "      <td>356285.426759</td>\n",
       "      <td>88111.97</td>\n",
       "    </tr>\n",
       "    <tr>\n",
       "      <th>1209132</th>\n",
       "      <td>1513</td>\n",
       "      <td>74070</td>\n",
       "      <td>461201.97</td>\n",
       "      <td>341663.043655</td>\n",
       "      <td>387131.97</td>\n",
       "    </tr>\n",
       "    <tr>\n",
       "      <th>174634</th>\n",
       "      <td>2040</td>\n",
       "      <td>138000</td>\n",
       "      <td>461201.97</td>\n",
       "      <td>520872.250533</td>\n",
       "      <td>323201.97</td>\n",
       "    </tr>\n",
       "    <tr>\n",
       "      <th>170584</th>\n",
       "      <td>1834</td>\n",
       "      <td>263870</td>\n",
       "      <td>461201.97</td>\n",
       "      <td>450820.833803</td>\n",
       "      <td>197331.97</td>\n",
       "    </tr>\n",
       "    <tr>\n",
       "      <th>2001226</th>\n",
       "      <td>1225</td>\n",
       "      <td>335603</td>\n",
       "      <td>461201.97</td>\n",
       "      <td>243727.082401</td>\n",
       "      <td>125598.97</td>\n",
       "    </tr>\n",
       "  </tbody>\n",
       "</table>\n",
       "</div>"
      ],
      "text/plain": [
       "         square_footage  tax_value  baseline_preds           yhat  \\\n",
       "553191             1556     373090       461201.97  356285.426759   \n",
       "1209132            1513      74070       461201.97  341663.043655   \n",
       "174634             2040     138000       461201.97  520872.250533   \n",
       "170584             1834     263870       461201.97  450820.833803   \n",
       "2001226            1225     335603       461201.97  243727.082401   \n",
       "\n",
       "         baseline_res  \n",
       "553191       88111.97  \n",
       "1209132     387131.97  \n",
       "174634      323201.97  \n",
       "170584      197331.97  \n",
       "2001226     125598.97  "
      ]
     },
     "execution_count": 45,
     "metadata": {},
     "output_type": "execute_result"
    }
   ],
   "source": [
    "preds['baseline_res'] = preds['baseline_preds'] - preds['tax_value']\n",
    "preds.head()"
   ]
  },
  {
   "cell_type": "code",
   "execution_count": 46,
   "id": "7c9df986",
   "metadata": {},
   "outputs": [
    {
     "data": {
      "image/png": "[encoded data removed]",
      "text/plain": [
       "<Figure size 640x480 with 1 Axes>"
      ]
     },
     "metadata": {},
     "output_type": "display_data"
    }
   ],
   "source": [
    "plt.scatter(preds['square_footage'].sample(100), preds['baseline_res'].sample(100))\n",
    "plt.xlabel('Square Footage')\n",
    "plt.ylabel('Baseline Residual')\n",
    "plt.show()"
   ]
  },
  {
   "cell_type": "code",
   "execution_count": 47,
   "id": "e05390ae",
   "metadata": {},
   "outputs": [
    {
     "name": "stderr",
     "output_type": "stream",
     "text": [
      "/var/folders/2g/_40bymd11_x47n42bls8ypmr0000gn/T/ipykernel_1223/2865484425.py:1: SettingWithCopyWarning: \n",
      "A value is trying to be set on a copy of a slice from a DataFrame.\n",
      "Try using .loc[row_indexer,col_indexer] = value instead\n",
      "\n",
      "See the caveats in the documentation: https://pandas.pydata.org/pandas-docs/stable/user_guide/indexing.html#returning-a-view-versus-a-copy\n",
      "  preds['yhat_res'] = preds['yhat'] - preds['tax_value']\n"
     ]
    },
    {
     "data": {
      "text/html": [
       "<div>\n",
       "<style scoped>\n",
       "    .dataframe tbody tr th:only-of-type {\n",
       "        vertical-align: middle;\n",
       "    }\n",
       "\n",
       "    .dataframe tbody tr th {\n",
       "        vertical-align: top;\n",
       "    }\n",
       "\n",
       "    .dataframe thead th {\n",
       "        text-align: right;\n",
       "    }\n",
       "</style>\n",
       "<table border=\"1\" class=\"dataframe\">\n",
       "  <thead>\n",
       "    <tr style=\"text-align: right;\">\n",
       "      <th></th>\n",
       "      <th>square_footage</th>\n",
       "      <th>tax_value</th>\n",
       "      <th>baseline_preds</th>\n",
       "      <th>yhat</th>\n",
       "      <th>baseline_res</th>\n",
       "      <th>yhat_res</th>\n",
       "    </tr>\n",
       "  </thead>\n",
       "  <tbody>\n",
       "    <tr>\n",
       "      <th>553191</th>\n",
       "      <td>1556</td>\n",
       "      <td>373090</td>\n",
       "      <td>461201.97</td>\n",
       "      <td>356285.426759</td>\n",
       "      <td>88111.97</td>\n",
       "      <td>-16804.573241</td>\n",
       "    </tr>\n",
       "    <tr>\n",
       "      <th>1209132</th>\n",
       "      <td>1513</td>\n",
       "      <td>74070</td>\n",
       "      <td>461201.97</td>\n",
       "      <td>341663.043655</td>\n",
       "      <td>387131.97</td>\n",
       "      <td>267593.043655</td>\n",
       "    </tr>\n",
       "    <tr>\n",
       "      <th>174634</th>\n",
       "      <td>2040</td>\n",
       "      <td>138000</td>\n",
       "      <td>461201.97</td>\n",
       "      <td>520872.250533</td>\n",
       "      <td>323201.97</td>\n",
       "      <td>382872.250533</td>\n",
       "    </tr>\n",
       "    <tr>\n",
       "      <th>170584</th>\n",
       "      <td>1834</td>\n",
       "      <td>263870</td>\n",
       "      <td>461201.97</td>\n",
       "      <td>450820.833803</td>\n",
       "      <td>197331.97</td>\n",
       "      <td>186950.833803</td>\n",
       "    </tr>\n",
       "    <tr>\n",
       "      <th>2001226</th>\n",
       "      <td>1225</td>\n",
       "      <td>335603</td>\n",
       "      <td>461201.97</td>\n",
       "      <td>243727.082401</td>\n",
       "      <td>125598.97</td>\n",
       "      <td>-91875.917599</td>\n",
       "    </tr>\n",
       "  </tbody>\n",
       "</table>\n",
       "</div>"
      ],
      "text/plain": [
       "         square_footage  tax_value  baseline_preds           yhat  \\\n",
       "553191             1556     373090       461201.97  356285.426759   \n",
       "1209132            1513      74070       461201.97  341663.043655   \n",
       "174634             2040     138000       461201.97  520872.250533   \n",
       "170584             1834     263870       461201.97  450820.833803   \n",
       "2001226            1225     335603       461201.97  243727.082401   \n",
       "\n",
       "         baseline_res       yhat_res  \n",
       "553191       88111.97  -16804.573241  \n",
       "1209132     387131.97  267593.043655  \n",
       "174634      323201.97  382872.250533  \n",
       "170584      197331.97  186950.833803  \n",
       "2001226     125598.97  -91875.917599  "
      ]
     },
     "execution_count": 47,
     "metadata": {},
     "output_type": "execute_result"
    }
   ],
   "source": [
    "preds['yhat_res'] = preds['yhat'] - preds['tax_value']\n",
    "preds.head()"
   ]
  },
  {
   "cell_type": "code",
   "execution_count": 48,
   "id": "62b800e7",
   "metadata": {},
   "outputs": [
    {
     "data": {
      "image/png": "[encoded data removed]",
      "text/plain": [
       "<Figure size 640x480 with 1 Axes>"
      ]
     },
     "metadata": {},
     "output_type": "display_data"
    }
   ],
   "source": [
    "plt.scatter(preds['square_footage'].sample(100), preds['yhat_res'].sample(100))\n",
    "plt.xlabel('Square Footage')\n",
    "plt.ylabel('Predictions residuals')\n",
    "plt.show()"
   ]
  },
  {
   "cell_type": "code",
   "execution_count": null,
   "id": "ef377de5",
   "metadata": {},
   "outputs": [],
   "source": []
  },
  {
   "cell_type": "markdown",
   "id": "9c7a46a0",
   "metadata": {},
   "source": [
    "4. Calculate the sum of squared errors, explained sum of squares, total sum of squares, mean squared error, and root mean squared error for your model."
   ]
  },
  {
   "cell_type": "code",
   "execution_count": 49,
   "id": "ab2dd858",
   "metadata": {},
   "outputs": [
    {
     "data": {
      "text/html": [
       "<div>\n",
       "<style scoped>\n",
       "    .dataframe tbody tr th:only-of-type {\n",
       "        vertical-align: middle;\n",
       "    }\n",
       "\n",
       "    .dataframe tbody tr th {\n",
       "        vertical-align: top;\n",
       "    }\n",
       "\n",
       "    .dataframe thead th {\n",
       "        text-align: right;\n",
       "    }\n",
       "</style>\n",
       "<table border=\"1\" class=\"dataframe\">\n",
       "  <thead>\n",
       "    <tr style=\"text-align: right;\">\n",
       "      <th></th>\n",
       "      <th>square_footage</th>\n",
       "      <th>tax_value</th>\n",
       "      <th>baseline_preds</th>\n",
       "      <th>yhat</th>\n",
       "      <th>baseline_res</th>\n",
       "      <th>yhat_res</th>\n",
       "      <th>baseline_res_squared</th>\n",
       "      <th>yhat_res_squared</th>\n",
       "    </tr>\n",
       "  </thead>\n",
       "  <tbody>\n",
       "    <tr>\n",
       "      <th>553191</th>\n",
       "      <td>1556</td>\n",
       "      <td>373090</td>\n",
       "      <td>461201.97</td>\n",
       "      <td>356285.426759</td>\n",
       "      <td>88111.97</td>\n",
       "      <td>-16804.573241</td>\n",
       "      <td>7.763719e+09</td>\n",
       "      <td>2.823937e+08</td>\n",
       "    </tr>\n",
       "    <tr>\n",
       "      <th>1209132</th>\n",
       "      <td>1513</td>\n",
       "      <td>74070</td>\n",
       "      <td>461201.97</td>\n",
       "      <td>341663.043655</td>\n",
       "      <td>387131.97</td>\n",
       "      <td>267593.043655</td>\n",
       "      <td>1.498712e+11</td>\n",
       "      <td>7.160604e+10</td>\n",
       "    </tr>\n",
       "    <tr>\n",
       "      <th>174634</th>\n",
       "      <td>2040</td>\n",
       "      <td>138000</td>\n",
       "      <td>461201.97</td>\n",
       "      <td>520872.250533</td>\n",
       "      <td>323201.97</td>\n",
       "      <td>382872.250533</td>\n",
       "      <td>1.044595e+11</td>\n",
       "      <td>1.465912e+11</td>\n",
       "    </tr>\n",
       "    <tr>\n",
       "      <th>170584</th>\n",
       "      <td>1834</td>\n",
       "      <td>263870</td>\n",
       "      <td>461201.97</td>\n",
       "      <td>450820.833803</td>\n",
       "      <td>197331.97</td>\n",
       "      <td>186950.833803</td>\n",
       "      <td>3.893991e+10</td>\n",
       "      <td>3.495061e+10</td>\n",
       "    </tr>\n",
       "    <tr>\n",
       "      <th>2001226</th>\n",
       "      <td>1225</td>\n",
       "      <td>335603</td>\n",
       "      <td>461201.97</td>\n",
       "      <td>243727.082401</td>\n",
       "      <td>125598.97</td>\n",
       "      <td>-91875.917599</td>\n",
       "      <td>1.577510e+10</td>\n",
       "      <td>8.441184e+09</td>\n",
       "    </tr>\n",
       "  </tbody>\n",
       "</table>\n",
       "</div>"
      ],
      "text/plain": [
       "         square_footage  tax_value  baseline_preds           yhat  \\\n",
       "553191             1556     373090       461201.97  356285.426759   \n",
       "1209132            1513      74070       461201.97  341663.043655   \n",
       "174634             2040     138000       461201.97  520872.250533   \n",
       "170584             1834     263870       461201.97  450820.833803   \n",
       "2001226            1225     335603       461201.97  243727.082401   \n",
       "\n",
       "         baseline_res       yhat_res  baseline_res_squared  yhat_res_squared  \n",
       "553191       88111.97  -16804.573241          7.763719e+09      2.823937e+08  \n",
       "1209132     387131.97  267593.043655          1.498712e+11      7.160604e+10  \n",
       "174634      323201.97  382872.250533          1.044595e+11      1.465912e+11  \n",
       "170584      197331.97  186950.833803          3.893991e+10      3.495061e+10  \n",
       "2001226     125598.97  -91875.917599          1.577510e+10      8.441184e+09  "
      ]
     },
     "execution_count": 49,
     "metadata": {},
     "output_type": "execute_result"
    }
   ],
   "source": [
    "preds['baseline_res_squared'] = preds['baseline_res']  ** 2\n",
    "preds['yhat_res_squared'] = preds['yhat_res'] ** 2\n",
    "preds.head()"
   ]
  },
  {
   "cell_type": "code",
   "execution_count": 50,
   "id": "e6d09e6e",
   "metadata": {},
   "outputs": [
    {
     "data": {
      "text/plain": [
       "(5.403229569246861e+17, 3.7790273011362477e+17)"
      ]
     },
     "execution_count": 50,
     "metadata": {},
     "output_type": "execute_result"
    }
   ],
   "source": [
    "sse_baseline = preds['baseline_res_squared'].sum()\n",
    "sse_yhat = preds['yhat_res_squared'].sum()\n",
    "sse_baseline, sse_yhat"
   ]
  },
  {
   "cell_type": "code",
   "execution_count": 51,
   "id": "30d56e97",
   "metadata": {},
   "outputs": [
    {
     "data": {
      "text/html": [
       "<div>\n",
       "<style scoped>\n",
       "    .dataframe tbody tr th:only-of-type {\n",
       "        vertical-align: middle;\n",
       "    }\n",
       "\n",
       "    .dataframe tbody tr th {\n",
       "        vertical-align: top;\n",
       "    }\n",
       "\n",
       "    .dataframe thead th {\n",
       "        text-align: right;\n",
       "    }\n",
       "</style>\n",
       "<table border=\"1\" class=\"dataframe\">\n",
       "  <thead>\n",
       "    <tr style=\"text-align: right;\">\n",
       "      <th></th>\n",
       "      <th>square_footage</th>\n",
       "      <th>tax_value</th>\n",
       "      <th>baseline_preds</th>\n",
       "      <th>yhat</th>\n",
       "      <th>baseline_res</th>\n",
       "      <th>yhat_res</th>\n",
       "      <th>baseline_res_squared</th>\n",
       "      <th>yhat_res_squared</th>\n",
       "      <th>yhat_mean_res</th>\n",
       "    </tr>\n",
       "  </thead>\n",
       "  <tbody>\n",
       "    <tr>\n",
       "      <th>553191</th>\n",
       "      <td>1556</td>\n",
       "      <td>373090</td>\n",
       "      <td>461201.97</td>\n",
       "      <td>356285.426759</td>\n",
       "      <td>88111.97</td>\n",
       "      <td>-16804.573241</td>\n",
       "      <td>7.763719e+09</td>\n",
       "      <td>2.823937e+08</td>\n",
       "      <td>-104916.543241</td>\n",
       "    </tr>\n",
       "    <tr>\n",
       "      <th>1209132</th>\n",
       "      <td>1513</td>\n",
       "      <td>74070</td>\n",
       "      <td>461201.97</td>\n",
       "      <td>341663.043655</td>\n",
       "      <td>387131.97</td>\n",
       "      <td>267593.043655</td>\n",
       "      <td>1.498712e+11</td>\n",
       "      <td>7.160604e+10</td>\n",
       "      <td>-119538.926345</td>\n",
       "    </tr>\n",
       "    <tr>\n",
       "      <th>174634</th>\n",
       "      <td>2040</td>\n",
       "      <td>138000</td>\n",
       "      <td>461201.97</td>\n",
       "      <td>520872.250533</td>\n",
       "      <td>323201.97</td>\n",
       "      <td>382872.250533</td>\n",
       "      <td>1.044595e+11</td>\n",
       "      <td>1.465912e+11</td>\n",
       "      <td>59670.280533</td>\n",
       "    </tr>\n",
       "    <tr>\n",
       "      <th>170584</th>\n",
       "      <td>1834</td>\n",
       "      <td>263870</td>\n",
       "      <td>461201.97</td>\n",
       "      <td>450820.833803</td>\n",
       "      <td>197331.97</td>\n",
       "      <td>186950.833803</td>\n",
       "      <td>3.893991e+10</td>\n",
       "      <td>3.495061e+10</td>\n",
       "      <td>-10381.136197</td>\n",
       "    </tr>\n",
       "    <tr>\n",
       "      <th>2001226</th>\n",
       "      <td>1225</td>\n",
       "      <td>335603</td>\n",
       "      <td>461201.97</td>\n",
       "      <td>243727.082401</td>\n",
       "      <td>125598.97</td>\n",
       "      <td>-91875.917599</td>\n",
       "      <td>1.577510e+10</td>\n",
       "      <td>8.441184e+09</td>\n",
       "      <td>-217474.887599</td>\n",
       "    </tr>\n",
       "  </tbody>\n",
       "</table>\n",
       "</div>"
      ],
      "text/plain": [
       "         square_footage  tax_value  baseline_preds           yhat  \\\n",
       "553191             1556     373090       461201.97  356285.426759   \n",
       "1209132            1513      74070       461201.97  341663.043655   \n",
       "174634             2040     138000       461201.97  520872.250533   \n",
       "170584             1834     263870       461201.97  450820.833803   \n",
       "2001226            1225     335603       461201.97  243727.082401   \n",
       "\n",
       "         baseline_res       yhat_res  baseline_res_squared  yhat_res_squared  \\\n",
       "553191       88111.97  -16804.573241          7.763719e+09      2.823937e+08   \n",
       "1209132     387131.97  267593.043655          1.498712e+11      7.160604e+10   \n",
       "174634      323201.97  382872.250533          1.044595e+11      1.465912e+11   \n",
       "170584      197331.97  186950.833803          3.893991e+10      3.495061e+10   \n",
       "2001226     125598.97  -91875.917599          1.577510e+10      8.441184e+09   \n",
       "\n",
       "         yhat_mean_res  \n",
       "553191  -104916.543241  \n",
       "1209132 -119538.926345  \n",
       "174634    59670.280533  \n",
       "170584   -10381.136197  \n",
       "2001226 -217474.887599  "
      ]
     },
     "execution_count": 51,
     "metadata": {},
     "output_type": "execute_result"
    }
   ],
   "source": [
    "preds['yhat_mean_res'] = preds['yhat'] - preds['baseline_preds']\n",
    "preds.head()"
   ]
  },
  {
   "cell_type": "code",
   "execution_count": 52,
   "id": "961e1d92",
   "metadata": {},
   "outputs": [
    {
     "data": {
      "text/html": [
       "<div>\n",
       "<style scoped>\n",
       "    .dataframe tbody tr th:only-of-type {\n",
       "        vertical-align: middle;\n",
       "    }\n",
       "\n",
       "    .dataframe tbody tr th {\n",
       "        vertical-align: top;\n",
       "    }\n",
       "\n",
       "    .dataframe thead th {\n",
       "        text-align: right;\n",
       "    }\n",
       "</style>\n",
       "<table border=\"1\" class=\"dataframe\">\n",
       "  <thead>\n",
       "    <tr style=\"text-align: right;\">\n",
       "      <th></th>\n",
       "      <th>square_footage</th>\n",
       "      <th>tax_value</th>\n",
       "      <th>baseline_preds</th>\n",
       "      <th>yhat</th>\n",
       "      <th>baseline_res</th>\n",
       "      <th>yhat_res</th>\n",
       "      <th>baseline_res_squared</th>\n",
       "      <th>yhat_res_squared</th>\n",
       "      <th>yhat_mean_res</th>\n",
       "      <th>yhat_mean_res_squared</th>\n",
       "    </tr>\n",
       "  </thead>\n",
       "  <tbody>\n",
       "    <tr>\n",
       "      <th>553191</th>\n",
       "      <td>1556</td>\n",
       "      <td>373090</td>\n",
       "      <td>461201.97</td>\n",
       "      <td>356285.426759</td>\n",
       "      <td>88111.97</td>\n",
       "      <td>-16804.573241</td>\n",
       "      <td>7.763719e+09</td>\n",
       "      <td>2.823937e+08</td>\n",
       "      <td>-104916.543241</td>\n",
       "      <td>1.100748e+10</td>\n",
       "    </tr>\n",
       "    <tr>\n",
       "      <th>1209132</th>\n",
       "      <td>1513</td>\n",
       "      <td>74070</td>\n",
       "      <td>461201.97</td>\n",
       "      <td>341663.043655</td>\n",
       "      <td>387131.97</td>\n",
       "      <td>267593.043655</td>\n",
       "      <td>1.498712e+11</td>\n",
       "      <td>7.160604e+10</td>\n",
       "      <td>-119538.926345</td>\n",
       "      <td>1.428955e+10</td>\n",
       "    </tr>\n",
       "    <tr>\n",
       "      <th>174634</th>\n",
       "      <td>2040</td>\n",
       "      <td>138000</td>\n",
       "      <td>461201.97</td>\n",
       "      <td>520872.250533</td>\n",
       "      <td>323201.97</td>\n",
       "      <td>382872.250533</td>\n",
       "      <td>1.044595e+11</td>\n",
       "      <td>1.465912e+11</td>\n",
       "      <td>59670.280533</td>\n",
       "      <td>3.560542e+09</td>\n",
       "    </tr>\n",
       "    <tr>\n",
       "      <th>170584</th>\n",
       "      <td>1834</td>\n",
       "      <td>263870</td>\n",
       "      <td>461201.97</td>\n",
       "      <td>450820.833803</td>\n",
       "      <td>197331.97</td>\n",
       "      <td>186950.833803</td>\n",
       "      <td>3.893991e+10</td>\n",
       "      <td>3.495061e+10</td>\n",
       "      <td>-10381.136197</td>\n",
       "      <td>1.077680e+08</td>\n",
       "    </tr>\n",
       "    <tr>\n",
       "      <th>2001226</th>\n",
       "      <td>1225</td>\n",
       "      <td>335603</td>\n",
       "      <td>461201.97</td>\n",
       "      <td>243727.082401</td>\n",
       "      <td>125598.97</td>\n",
       "      <td>-91875.917599</td>\n",
       "      <td>1.577510e+10</td>\n",
       "      <td>8.441184e+09</td>\n",
       "      <td>-217474.887599</td>\n",
       "      <td>4.729533e+10</td>\n",
       "    </tr>\n",
       "  </tbody>\n",
       "</table>\n",
       "</div>"
      ],
      "text/plain": [
       "         square_footage  tax_value  baseline_preds           yhat  \\\n",
       "553191             1556     373090       461201.97  356285.426759   \n",
       "1209132            1513      74070       461201.97  341663.043655   \n",
       "174634             2040     138000       461201.97  520872.250533   \n",
       "170584             1834     263870       461201.97  450820.833803   \n",
       "2001226            1225     335603       461201.97  243727.082401   \n",
       "\n",
       "         baseline_res       yhat_res  baseline_res_squared  yhat_res_squared  \\\n",
       "553191       88111.97  -16804.573241          7.763719e+09      2.823937e+08   \n",
       "1209132     387131.97  267593.043655          1.498712e+11      7.160604e+10   \n",
       "174634      323201.97  382872.250533          1.044595e+11      1.465912e+11   \n",
       "170584      197331.97  186950.833803          3.893991e+10      3.495061e+10   \n",
       "2001226     125598.97  -91875.917599          1.577510e+10      8.441184e+09   \n",
       "\n",
       "         yhat_mean_res  yhat_mean_res_squared  \n",
       "553191  -104916.543241           1.100748e+10  \n",
       "1209132 -119538.926345           1.428955e+10  \n",
       "174634    59670.280533           3.560542e+09  \n",
       "170584   -10381.136197           1.077680e+08  \n",
       "2001226 -217474.887599           4.729533e+10  "
      ]
     },
     "execution_count": 52,
     "metadata": {},
     "output_type": "execute_result"
    }
   ],
   "source": [
    "preds['yhat_mean_res_squared'] = preds['yhat_mean_res'] ** 2\n",
    "preds.head()"
   ]
  },
  {
   "cell_type": "code",
   "execution_count": 53,
   "id": "53dd1ca1",
   "metadata": {},
   "outputs": [
    {
     "data": {
      "text/plain": [
       "1.6242022681105974e+17"
      ]
     },
     "execution_count": 53,
     "metadata": {},
     "output_type": "execute_result"
    }
   ],
   "source": [
    "ess_baseline = 0\n",
    "ess_yhat = preds['yhat_mean_res_squared'].sum()\n",
    "ess_yhat"
   ]
  },
  {
   "cell_type": "code",
   "execution_count": 54,
   "id": "693f36f6",
   "metadata": {},
   "outputs": [
    {
     "data": {
      "text/plain": [
       "5.403229569246861e+17"
      ]
     },
     "execution_count": 54,
     "metadata": {},
     "output_type": "execute_result"
    }
   ],
   "source": [
    "tss_baseline = sse_baseline + ess_baseline\n",
    "tss_baseline"
   ]
  },
  {
   "cell_type": "code",
   "execution_count": 55,
   "id": "1434d749",
   "metadata": {},
   "outputs": [
    {
     "data": {
      "text/plain": [
       "(452941865226.9652, 316788256464.7095)"
      ]
     },
     "execution_count": 55,
     "metadata": {},
     "output_type": "execute_result"
    }
   ],
   "source": [
    "mse_baseline = sse_baseline / len(preds)\n",
    "mse_yhat = sse_yhat / len(preds)\n",
    "mse_baseline, mse_yhat"
   ]
  },
  {
   "cell_type": "code",
   "execution_count": 56,
   "id": "6b088d6f",
   "metadata": {},
   "outputs": [
    {
     "data": {
      "text/plain": [
       "(673009.5580502294, 562839.4588732292)"
      ]
     },
     "execution_count": 56,
     "metadata": {},
     "output_type": "execute_result"
    }
   ],
   "source": [
    "rmse_baseline = sqrt(mse_baseline)\n",
    "rmse_yhat = sqrt(mse_yhat)\n",
    "rmse_baseline, rmse_yhat"
   ]
  },
  {
   "cell_type": "markdown",
   "id": "7ea6cd5d",
   "metadata": {},
   "source": [
    "5. Calculate the sum of squared errors, mean squared error, and root mean squared error for the baseline model (i.e. a model that always predicts the average taxvaluedollarcnt amount)."
   ]
  },
  {
   "cell_type": "code",
   "execution_count": 58,
   "id": "66e66bb5",
   "metadata": {},
   "outputs": [
    {
     "data": {
      "text/plain": [
       "5.403229569246861e+17"
      ]
     },
     "execution_count": 58,
     "metadata": {},
     "output_type": "execute_result"
    }
   ],
   "source": [
    "preds['baseline_preds']\n",
    "sse_baseline = preds['baseline_res_squared'].sum()\n",
    "sse_baseline"
   ]
  },
  {
   "cell_type": "code",
   "execution_count": 59,
   "id": "d1f2cbbc",
   "metadata": {},
   "outputs": [
    {
     "data": {
      "text/plain": [
       "452941865226.9652"
      ]
     },
     "execution_count": 59,
     "metadata": {},
     "output_type": "execute_result"
    }
   ],
   "source": [
    "mse_baseline = sse_baseline / len(preds)\n",
    "mse_baseline"
   ]
  },
  {
   "cell_type": "code",
   "execution_count": 60,
   "id": "57f419db",
   "metadata": {},
   "outputs": [
    {
     "data": {
      "text/plain": [
       "673009.5580502294"
      ]
     },
     "execution_count": 60,
     "metadata": {},
     "output_type": "execute_result"
    }
   ],
   "source": [
    "rmse_baseline = sqrt(mse_baseline)\n",
    "rmse_baseline"
   ]
  },
  {
   "cell_type": "markdown",
   "id": "10963a09",
   "metadata": {},
   "source": [
    "6. Write python code that compares the sum of squared errors for your model against the sum of squared errors for the baseline model and outputs whether or not your model performs better than the baseline model."
   ]
  },
  {
   "cell_type": "code",
   "execution_count": 62,
   "id": "1bc28726",
   "metadata": {},
   "outputs": [
    {
     "name": "stdout",
     "output_type": "stream",
     "text": [
      "Model outperforms baseline model.\n"
     ]
    }
   ],
   "source": [
    "if sse_yhat < sse_baseline:\n",
    "    print('Model outperforms baseline model.')\n",
    "else:\n",
    "    print('Baseline model outperforms the model')"
   ]
  },
  {
   "cell_type": "markdown",
   "id": "09290372",
   "metadata": {},
   "source": [
    "7. What is the amount of variance explained in your model?"
   ]
  },
  {
   "cell_type": "code",
   "execution_count": 63,
   "id": "d9bd0786",
   "metadata": {},
   "outputs": [
    {
     "data": {
      "text/plain": [
       "1.624202268110613e+17"
      ]
     },
     "execution_count": 63,
     "metadata": {},
     "output_type": "execute_result"
    }
   ],
   "source": [
    "amount_variance = sse_baseline - sse_yhat\n",
    "amount_variance"
   ]
  },
  {
   "cell_type": "code",
   "execution_count": 79,
   "id": "88685e92",
   "metadata": {},
   "outputs": [
    {
     "data": {
      "text/plain": [
       "0.30059841938883325"
      ]
     },
     "execution_count": 79,
     "metadata": {},
     "output_type": "execute_result"
    }
   ],
   "source": [
    "explained_variance_score(preds['tax_value'], preds['yhat'])"
   ]
  },
  {
   "cell_type": "markdown",
   "id": "12cad188",
   "metadata": {},
   "source": [
    "8. Is your model better than the baseline model?"
   ]
  },
  {
   "cell_type": "code",
   "execution_count": 80,
   "id": "20fc9500",
   "metadata": {},
   "outputs": [
    {
     "name": "stdout",
     "output_type": "stream",
     "text": [
      "Model outperfomrs the baseline\n"
     ]
    }
   ],
   "source": [
    "if rmse_yhat < rmse_baseline:\n",
    "    print('Model outperfomrs the baseline')\n",
    "else:\n",
    "    print('Baseline outperforms the model')"
   ]
  },
  {
   "cell_type": "markdown",
   "id": "aec5128c",
   "metadata": {},
   "source": [
    "9. Create a file named evaluate.py that contains the following functions.\n",
    "\n",
    "- plot_residuals(y, yhat): creates a residual plot"
   ]
  },
  {
   "cell_type": "code",
   "execution_count": 83,
   "id": "b3786d60",
   "metadata": {},
   "outputs": [],
   "source": [
    "def plot_residuals(y, yhat):\n",
    "    ''' This function creates a residual plot'''\n",
    "    plt.scatter(y, (yhat - y))\n",
    "    plt.xlabel('yhat')\n",
    "    plt.ylael('residuals')\n",
    "    plt.show()\n",
    "    \n"
   ]
  },
  {
   "cell_type": "markdown",
   "id": "3b4b4d4e",
   "metadata": {},
   "source": [
    "- regression_errors(y, yhat): returns the following values:\n",
    "    - sum of squared errors (SSE)\n",
    "    - explained sum of squares (ESS)\n",
    "    - total sum of squares (TSS)\n",
    "    - mean squared error (MSE)\n",
    "    - root mean squared error (RMSE)"
   ]
  },
  {
   "cell_type": "code",
   "execution_count": 68,
   "id": "45458544",
   "metadata": {},
   "outputs": [],
   "source": [
    "def regression_errors(y, yhat):\n",
    "    '''This function returns the values for SSE, ESS, TSS, MSE, and RMSE'''\n",
    "    \n",
    "    preds['yhat_res_squared'] = preds['yhat_res'] ** 2\n",
    "    sse_yhat = preds['yhat_res_squared'].sum()\n",
    "    \n",
    "    preds['yhat_mean_res'] = preds['yhat'] - preds['baseline_preds']\n",
    "    preds['yhat_mean_res_squared'] = preds['yhat_mean_res'] ** 2\n",
    "    ess_baseline = 0\n",
    "    ess_yhat = preds['yhat_mean_res_squared'].sum()\n",
    "    \n",
    "    tss_yhat = sse_yhat + sse_yhat\n",
    "    \n",
    "    mse_yhat = sse_yhat / len(preds)\n",
    "    \n",
    "    rmse_yhat = sqrt(mse_yhat)\n",
    "    \n",
    "    return sse_yhat, ess_yhat, tss_yhat, mse_yhat, rmse_yhat"
   ]
  },
  {
   "cell_type": "markdown",
   "id": "5ee1547f",
   "metadata": {},
   "source": [
    "- baseline_mean_errors(y): computes the SSE, MSE, and RMSE for the baseline model"
   ]
  },
  {
   "cell_type": "code",
   "execution_count": 69,
   "id": "55606207",
   "metadata": {},
   "outputs": [],
   "source": [
    "def baseline_mean_errors(y):\n",
    "    '''This function returns the values for SSE, MSE, and RMSE for the baseline model'''\n",
    "    preds['baseline_res_squared'] = preds['baseline_res']  ** 2\n",
    "    sse_baseline = preds['baseline_res_squared'].sum()\n",
    "    mse_baseline = sse_baseline / len(preds)\n",
    "    rmse_baseline = sqrt(mse_baseline)\n",
    "    \n",
    "    return sse_baseline, mse_baseline, rmse_baseline\n",
    "    \n",
    "    \n",
    "    "
   ]
  },
  {
   "cell_type": "code",
   "execution_count": 84,
   "id": "3efe6427",
   "metadata": {},
   "outputs": [
    {
     "data": {
      "text/plain": [
       "(5.403229569246861e+17, 452941865226.9652, 673009.5580502294)"
      ]
     },
     "execution_count": 84,
     "metadata": {},
     "output_type": "execute_result"
    }
   ],
   "source": [
    "baseline_mean_errors(train.tax_value)"
   ]
  },
  {
   "cell_type": "markdown",
   "id": "fbe78a5b",
   "metadata": {},
   "source": [
    "- better_than_baseline(y, yhat): returns true if your model performs better than the baseline, otherwise false"
   ]
  },
  {
   "cell_type": "code",
   "execution_count": 70,
   "id": "c2876953",
   "metadata": {},
   "outputs": [],
   "source": [
    "def better_than_baseline(y, yhat):\n",
    "    if sse_yhat < sse_baseline:\n",
    "        return('Model outperforms baseline model.')\n",
    "    else:\n",
    "        return('Baseline model outperforms the model')"
   ]
  },
  {
   "cell_type": "code",
   "execution_count": null,
   "id": "8c9b19bf",
   "metadata": {},
   "outputs": [],
   "source": []
  }
 ],
 "metadata": {
  "kernelspec": {
   "display_name": "Python 3 (ipykernel)",
   "language": "python",
   "name": "python3"
  },
  "language_info": {
   "codemirror_mode": {
    "name": "ipython",
    "version": 3
   },
   "file_extension": ".py",
   "mimetype": "text/x-python",
   "name": "python",
   "nbconvert_exporter": "python",
   "pygments_lexer": "ipython3",
   "version": "3.9.13"
  }
 },
 "nbformat": 4,
 "nbformat_minor": 5
}
